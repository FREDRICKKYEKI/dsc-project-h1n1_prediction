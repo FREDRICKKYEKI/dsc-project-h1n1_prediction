{
  "cells": [
    {
      "cell_type": "markdown",
      "source": [
        "## Problem description\n",
        "Your goal is to predict how likely individuals are to receive their H1N1 and seasonal flu vaccines. Specifically, you'll be predicting two probabilities: one for `h1n1_vaccine` and one for `seasonal_vaccine`.\n",
        "\n",
        "Each row in the dataset represents one person who responded to the National 2009 H1N1 Flu Survey."
      ],
      "metadata": {
        "id": "ADMyyTtZPECM"
      },
      "id": "ADMyyTtZPECM"
    },
    {
      "cell_type": "markdown",
      "source": [
        "For this competition, there are two target variables:\n",
        "\n",
        "- `h1n1_vaccine` - Whether respondent received H1N1 flu vaccine.\n",
        "- `seasonal_vaccine` - Whether respondent received seasonal flu vaccine.\n",
        "Both are binary variables: 0 = No; 1 = Yes. Some respondents didn't get either vaccine, others got only one, and some got both. This is formulated as a multilabel (and not multiclass) problem."
      ],
      "metadata": {
        "id": "GONiN60ePf_5"
      },
      "id": "GONiN60ePf_5"
    },
    {
      "cell_type": "markdown",
      "source": [
        "The features in this dataset\n",
        "You are provided a dataset with 36 columns. The first column respondent_id is a unique and random identifier. The remaining 35 features are described below.\n",
        "\n",
        "For all binary variables: 0 = No; 1 = Yes.\n",
        "\n",
        "- `h1n1_concern` - Level of concern about the H1N1 flu.\n",
        "0 = Not at all concerned; 1 = Not very concerned; 2 = Somewhat concerned; 3 = Very concerned.\n",
        "- `h1n1_knowledge` - Level of knowledge about H1N1 flu.\n",
        "0 = No knowledge; 1 = A little knowledge; 2 = A lot of knowledge.\n",
        "- `behavioral_antiviral_meds` - Has taken antiviral medications. (binary)\n",
        "-`behavioral_avoidance` - Has avoided close contact with others with flu-like symptoms. (binary)\n",
        "-`behavioral_face_mask` - Has bought a face mask. (binary)\n",
        "behavioral_wash_hands - Has frequently washed hands or used hand sanitizer. (binary)\n",
        "-`behavioral_large_gatherings` - Has reduced time at large gatherings. (binary)\n",
        "-`behavioral_outside_home` - Has reduced contact with people outside of own household. (binary)\n",
        "-`behavioral_touch_face` - Has avoided touching eyes, nose, or mouth. (binary)\n",
        "-`doctor_recc_h1n1` - H1N1 flu vaccine was recommended by doctor. (binary)\n",
        "-`doctor_recc_seasonal` - Seasonal flu vaccine was recommended by doctor. (binary)\n",
        "-`chronic_med_condition` - Has any of the following chronic medical conditions: asthma or an other lung condition, diabetes, a heart condition, a kidney condition, sickle cell anemia or other anemia, a neurological or neuromuscular condition, a liver condition, or a weakened immune system caused by a chronic illness or by medicines taken for a chronic illness. (binary)\n",
        "-`child_under_6_months` - Has regular close contact with a child under the age of six months. (binary)\n",
        "-`health_worker` - Is a healthcare worker. (binary)\n",
        "-`health_insurance` - Has health insurance. (binary)\n",
        "-`opinion_h1n1_vacc_effective` - Respondent's opinion about H1N1 vaccine effectiveness.\n",
        "1 = Not at all effective; 2 = Not very effective; 3 = Don't know; 4 = Somewhat effective; 5 = Very effective.\n",
        "-`opinion_h1n1_risk` - Respondent's opinion about risk of getting sick with H1N1 flu without vaccine.\n",
        "1 = Very Low; 2 = Somewhat low; 3 = Don't know; 4 = Somewhat high; 5 = Very high.\n",
        "-`opinion_h1n1_sick_from_vacc` - Respondent's worry of getting sick from taking H1N1 vaccine.\n",
        "1 = Not at all worried; 2 = Not very worried; 3 = Don't know; 4 = Somewhat worried; 5 = Very worried.\n",
        "-`opinion_seas_vacc_effective` - Respondent's opinion about seasonal flu vaccine effectiveness.\n",
        "1 = Not at all effective; 2 = Not very effective; 3 = Don't know; 4 = Somewhat effective; 5 = Very effective.\n",
        "-`opinion_seas_risk` - Respondent's opinion about risk of getting sick with seasonal flu without vaccine.\n",
        "1 = Very Low; 2 = Somewhat low; 3 = Don't know; 4 = Somewhat high; 5 = Very high.\n",
        "-`opinion_seas_sick_from_vacc` - Respondent's worry of getting sick from taking seasonal flu vaccine.\n",
        "1 = Not at all worried; 2 = Not very worried; 3 = Don't know; 4 = Somewhat worried; 5 = Very worried.\n",
        "-`age_group` - Age group of respondent.\n",
        "-`education` - Self-reported education level.\n",
        "-`race` - Race of respondent.\n",
        "-`sex` - Sex of respondent.\n",
        "-`income_poverty` - Household annual income of respondent with respect to 2008 Census poverty thresholds.\n",
        "-`marital_status` - Marital status of respondent.\n",
        "-`rent_or_own` - Housing situation of respondent.\n",
        "-`employment_status` - Employment status of respondent.\n",
        "-`hhs_geo_region` - Respondent's residence using a 10-region geographic classification defined by the U.S. Dept. of Health and Human Services. Values are represented as short random character strings.\n",
        "-`census_msa` - Respondent's residence within metropolitan statistical areas (MSA) as defined by the U.S. Census.\n",
        "-`household_adults` - Number of other adults in household, top-coded to 3.\n",
        "-`household_children` - Number of children in household, top-coded to 3.\n",
        "-`employment_industry` - Type of industry respondent is employed in. Values are represented as short random character strings.\n",
        "-`employment_occupation` - Type of occupation of respondent. Values are represented as short random character strings."
      ],
      "metadata": {
        "id": "69sHiIzgRYLn"
      },
      "id": "69sHiIzgRYLn"
    }
  ],
  "metadata": {
    "kernelspec": {
      "display_name": "Python 3 (ipykernel)",
      "language": "python",
      "name": "python3"
    },
    "colab": {
      "provenance": []
    }
  },
  "nbformat": 4,
  "nbformat_minor": 5
}