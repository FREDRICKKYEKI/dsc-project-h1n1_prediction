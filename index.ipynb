{
  "cells": [
    {
      "cell_type": "markdown",
      "source": [],
      "metadata": {
        "id": "ZlifnJfJO-Ns"
      },
      "id": "ZlifnJfJO-Ns"
    },
    {
      "cell_type": "markdown",
      "source": [
        "## Problem description\n",
        "Your goal is to predict how likely individuals are to receive their H1N1 and seasonal flu vaccines. Specifically, you'll be predicting two probabilities: one for `h1n1_vaccine` and one for seasonal_vaccine.\n",
        "\n",
        "Each row in the dataset represents one person who responded to the National 2009 H1N1 Flu Survey."
      ],
      "metadata": {
        "id": "ADMyyTtZPECM"
      },
      "id": "ADMyyTtZPECM"
    },
    {
      "cell_type": "markdown",
      "source": [
        "For this competition, there are two target variables:\n",
        "\n",
        "- `h1n1_vaccine` - Whether respondent received H1N1 flu vaccine.\n",
        "- `seasonal_vaccine` - Whether respondent received seasonal flu vaccine.\n",
        "Both are binary variables: 0 = No; 1 = Yes. Some respondents didn't get either vaccine, others got only one, and some got both. This is formulated as a multilabel (and not multiclass) problem."
      ],
      "metadata": {
        "id": "GONiN60ePf_5"
      },
      "id": "GONiN60ePf_5"
    }
  ],
  "metadata": {
    "kernelspec": {
      "display_name": "Python 3 (ipykernel)",
      "language": "python",
      "name": "python3"
    },
    "colab": {
      "provenance": []
    }
  },
  "nbformat": 4,
  "nbformat_minor": 5
}