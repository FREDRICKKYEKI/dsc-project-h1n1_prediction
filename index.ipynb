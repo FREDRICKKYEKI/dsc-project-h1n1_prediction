{
 "cells": [
  {
   "cell_type": "code",
   "execution_count": null,
   "id": "345571f8",
   "metadata": {},
   "outputs": [],
   "source": [
    "print(\"hello index.ipynb\")"
   ]
  }
 ],
 "metadata": {
  "kernelspec": {
   "display_name": "Python 3 (ipykernel)",
   "language": "python",
   "name": "python3"
  }
 },
 "nbformat": 4,
 "nbformat_minor": 5
}
